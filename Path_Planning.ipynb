{
  "cells": [
    {
      "cell_type": "markdown",
      "metadata": {},
      "source": [
        "If Using Google Collab"
      ]
    },
    {
      "cell_type": "code",
      "execution_count": 4,
      "metadata": {
        "colab": {
          "base_uri": "https://localhost:8080/"
        },
        "id": "cyMMt05RAEq6",
        "outputId": "4043c636-1a2b-420b-de8d-573335895c85"
      },
      "outputs": [
        {
          "name": "stdout",
          "output_type": "stream",
          "text": [
            "Requirement already satisfied: numpy in /usr/local/lib/python3.10/dist-packages (1.25.2)\n",
            "Requirement already satisfied: matplotlib in /usr/local/lib/python3.10/dist-packages (3.7.1)\n",
            "Requirement already satisfied: contourpy>=1.0.1 in /usr/local/lib/python3.10/dist-packages (from matplotlib) (1.2.1)\n",
            "Requirement already satisfied: cycler>=0.10 in /usr/local/lib/python3.10/dist-packages (from matplotlib) (0.12.1)\n",
            "Requirement already satisfied: fonttools>=4.22.0 in /usr/local/lib/python3.10/dist-packages (from matplotlib) (4.53.0)\n",
            "Requirement already satisfied: kiwisolver>=1.0.1 in /usr/local/lib/python3.10/dist-packages (from matplotlib) (1.4.5)\n",
            "Requirement already satisfied: packaging>=20.0 in /usr/local/lib/python3.10/dist-packages (from matplotlib) (24.1)\n",
            "Requirement already satisfied: pillow>=6.2.0 in /usr/local/lib/python3.10/dist-packages (from matplotlib) (9.4.0)\n",
            "Requirement already satisfied: pyparsing>=2.3.1 in /usr/local/lib/python3.10/dist-packages (from matplotlib) (3.1.2)\n",
            "Requirement already satisfied: python-dateutil>=2.7 in /usr/local/lib/python3.10/dist-packages (from matplotlib) (2.8.2)\n",
            "Requirement already satisfied: six>=1.5 in /usr/local/lib/python3.10/dist-packages (from python-dateutil>=2.7->matplotlib) (1.16.0)\n",
            "Reading package lists... Done\n",
            "Building dependency tree... Done\n",
            "Reading state information... Done\n",
            "ffmpeg is already the newest version (7:4.4.2-0ubuntu0.22.04.1).\n",
            "0 upgraded, 0 newly installed, 0 to remove and 45 not upgraded.\n"
          ]
        }
      ],
      "source": [
        "# !pip install numpy matplotlib\n",
        "# !apt-get install ffmpeg"
      ]
    },
    {
      "cell_type": "markdown",
      "metadata": {
        "id": "9Vq46-Q1FfKL"
      },
      "source": [
        "# Breath First Search Algorithm"
      ]
    },
    {
      "cell_type": "code",
      "execution_count": 25,
      "metadata": {
        "colab": {
          "base_uri": "https://localhost:8080/",
          "height": 428
        },
        "id": "ZWERWJwVBk84",
        "outputId": "eb24c9aa-3ede-4cc5-dd8b-1025129b48b0"
      },
      "outputs": [
        {
          "data": {
            "image/png": "[encoded data removed]",
            "text/plain": [
              "<Figure size 640x480 with 1 Axes>"
            ]
          },
          "metadata": {},
          "output_type": "display_data"
        },
        {
          "name": "stdout",
          "output_type": "stream",
          "text": [
            "Path found: [(6, 5), (7, 5), (8, 5), (9, 5), (10, 5), (11, 5), (11, 6), (11, 7), (11, 8), (11, 9), (11, 10), (11, 11), (11, 12), (11, 13), (11, 14), (12, 14), (13, 14), (14, 14), (14, 15), (14, 16), (14, 17), (14, 18), (14, 19)]\n"
          ]
        }
      ],
      "source": [
        "import numpy as np\n",
        "import matplotlib.pyplot as plt\n",
        "from collections import deque\n",
        "\n",
        "# Function to find neighbors\n",
        "def get_neighbors(node, grid):\n",
        "    neighbors = []\n",
        "    directions = [(-1, 0), (1, 0), (0, -1), (0, 1)]  # Up, Down, Left, Right\n",
        "    for direction in directions:\n",
        "        neighbor = (node[0] + direction[0], node[1] + direction[1])\n",
        "        if 0 <= neighbor[0] < grid.shape[0] and 0 <= neighbor[1] < grid.shape[1]:\n",
        "            neighbors.append(neighbor)\n",
        "    return neighbors\n",
        "\n",
        "# Breadth-First Search Algorithm\n",
        "def bfs(grid, start, goal):\n",
        "    rows, cols = grid.shape\n",
        "    queue = deque([start])\n",
        "    came_from = {start: None}\n",
        "    visited = set([start])\n",
        "\n",
        "    while queue:\n",
        "        current_node = queue.popleft()\n",
        "\n",
        "        if current_node == goal:\n",
        "            break\n",
        "\n",
        "        for neighbor in get_neighbors(current_node, grid):\n",
        "            if grid[neighbor] > 0 or neighbor in visited:  # Obstacle or already visited\n",
        "                continue\n",
        "            visited.add(neighbor)\n",
        "            queue.append(neighbor)\n",
        "            came_from[neighbor] = current_node\n",
        "\n",
        "    # Reconstruct path\n",
        "    path = []\n",
        "    node = goal\n",
        "    if node not in came_from:\n",
        "        return []  # Goal not reached, return empty path\n",
        "\n",
        "    while node:\n",
        "        path.append(node)\n",
        "        node = came_from[node]\n",
        "    path.reverse()\n",
        "    return path\n",
        "\n",
        "# Define the grid with different shaped obstacles\n",
        "grid = np.zeros((20, 30))\n",
        "\n",
        "# Adding different shaped obstacles\n",
        "grid[7:9, 2:4] = 1\n",
        "grid[10:14, 1:5] = 2\n",
        "grid[3:5, 7:9] = 3\n",
        "grid[7:10, 8:11] = 4\n",
        "grid[12:15, 9:14] = 5\n",
        "grid[2:4, 13:18] = 6\n",
        "grid[4:6, 13:15] = 7\n",
        "grid[8:10, 17:21] = 8\n",
        "\n",
        "start = (6, 5)\n",
        "goal = (14, 19)\n",
        "\n",
        "# Run BFS Algorithm\n",
        "path = bfs(grid, start, goal)\n",
        "\n",
        "# Visualization\n",
        "def plot_grid(grid, path=None):\n",
        "    plt.imshow(grid, cmap='Greys', origin='upper')\n",
        "\n",
        "    # Draw yellow dots for each coordinate not occupied by obstacles\n",
        "    for i in range(grid.shape[0]):\n",
        "        for j in range(grid.shape[1]):\n",
        "            if grid[i, j] == 0:\n",
        "                plt.scatter(j, i, c='yellow', s=10)  # Yellow dot for each coordinate\n",
        "\n",
        "    if path:\n",
        "        path = np.array(path)\n",
        "        plt.plot(path[:, 1], path[:, 0], 'orange', linewidth=2)  # Path line in orange\n",
        "\n",
        "    plt.scatter(start[1], start[0], c='blue', marker='o', s=100, edgecolors='black')  # Start\n",
        "    plt.scatter(goal[1], goal[0], c='red', marker='o', s=100, edgecolors='black')  # Goal\n",
        "    plt.show()\n",
        "\n",
        "plot_grid(grid, path)\n",
        "\n",
        "# Check if path was found\n",
        "if not path:\n",
        "    print(\"No path found to the goal.\")\n",
        "else:\n",
        "    print(\"Path found:\", path)\n",
        "\n",
        "ani = animation.FuncAnimation(fig, update_plot, frames=len(steps), interval=500, repeat=False)\n",
        "\n",
        "# Save the animation to a file to ensure it renders\n",
        "ani.save('pathfinding_animation_bfs.mp4', writer='ffmpeg')\n",
        "\n",
        "# Display the animation\n",
        "plt.show()\n"
      ]
    },
    {
      "cell_type": "markdown",
      "metadata": {
        "id": "fXcYp5NQFmZM"
      },
      "source": [
        "# Djikstra Algorithm"
      ]
    },
    {
      "cell_type": "code",
      "execution_count": 22,
      "metadata": {
        "colab": {
          "base_uri": "https://localhost:8080/",
          "height": 428
        },
        "id": "9TYRzVVqET34",
        "outputId": "e96729dd-1b22-43f1-a7e7-cbf79b44bb90"
      },
      "outputs": [
        {
          "data": {
            "image/png": "[encoded data removed]",
            "text/plain": [
              "<Figure size 640x480 with 1 Axes>"
            ]
          },
          "metadata": {},
          "output_type": "display_data"
        },
        {
          "name": "stdout",
          "output_type": "stream",
          "text": [
            "Path found: [(6, 5), (6, 6), (6, 7), (6, 8), (6, 9), (6, 10), (6, 11), (6, 12), (6, 13), (6, 14), (6, 15), (6, 16), (7, 16), (8, 16), (9, 16), (10, 16), (10, 17), (10, 18), (10, 19), (11, 19), (12, 19), (13, 19), (14, 19)]\n"
          ]
        }
      ],
      "source": [
        "import numpy as np\n",
        "import matplotlib.pyplot as plt\n",
        "import heapq\n",
        "\n",
        "# Function to find neighbors\n",
        "def get_neighbors(node, grid):\n",
        "    neighbors = []\n",
        "    directions = [(-1, 0), (1, 0), (0, -1), (0, 1)]  # Up, Down, Left, Right\n",
        "    for direction in directions:\n",
        "        neighbor = (node[0] + direction[0], node[1] + direction[1])\n",
        "        if 0 <= neighbor[0] < grid.shape[0] and 0 <= neighbor[1] < grid.shape[1]:\n",
        "            neighbors.append(neighbor)\n",
        "    return neighbors\n",
        "\n",
        "# Dijkstra's Algorithm\n",
        "def dijkstra(grid, start, goal):\n",
        "    rows, cols = grid.shape\n",
        "    distances = {node: float('inf') for node in np.ndindex(grid.shape)}\n",
        "    distances[start] = 0\n",
        "    priority_queue = [(0, start)]\n",
        "    came_from = {start: None}\n",
        "\n",
        "    while priority_queue:\n",
        "        current_distance, current_node = heapq.heappop(priority_queue)\n",
        "\n",
        "        if current_node == goal:\n",
        "            break\n",
        "\n",
        "        for neighbor in get_neighbors(current_node, grid):\n",
        "            if grid[neighbor] > 0:  # Obstacle (any value > 0)\n",
        "                continue\n",
        "            distance = current_distance + 1  # Assuming all steps cost 1\n",
        "            if distance < distances[neighbor]:\n",
        "                distances[neighbor] = distance\n",
        "                heapq.heappush(priority_queue, (distance, neighbor))\n",
        "                came_from[neighbor] = current_node\n",
        "\n",
        "    # Reconstruct path\n",
        "    path = []\n",
        "    node = goal\n",
        "    if node not in came_from:\n",
        "        return []  # Goal not reached, return empty path\n",
        "\n",
        "    while node:\n",
        "        path.append(node)\n",
        "        node = came_from[node]\n",
        "    path.reverse()\n",
        "    return path\n",
        "\n",
        "# Define the grid with different shaped obstacles\n",
        "grid = np.zeros((20, 30))\n",
        "\n",
        "# Adding different shaped obstacles\n",
        "grid[7:9, 2:4] = 1  \n",
        "grid[10:14, 1:5] = 2 \n",
        "\n",
        "grid[3:5, 7:9] = 3  \n",
        "grid[7:10, 8:11] = 4  \n",
        "grid[12:15, 9:14] = 5 \n",
        "\n",
        "grid[2:4, 13:18] = 6  \n",
        "grid[4:6, 13:15] = 7  \n",
        "grid[8:10, 17:21] = 8\n",
        "\n",
        "start = (6, 5)\n",
        "goal = (14, 19)\n",
        "\n",
        "# Run Dijkstra's Algorithm\n",
        "path = dijkstra(grid, start, goal)\n",
        "\n",
        "# Visualization\n",
        "def plot_grid(grid, path=None):\n",
        "    plt.imshow(grid, cmap='Greys', origin='upper')\n",
        "\n",
        "    # Draw yellow dots for each coordinate not occupied by obstacles\n",
        "    for i in range(grid.shape[0]):\n",
        "        for j in range(grid.shape[1]):\n",
        "            if grid[i, j] == 0:\n",
        "                plt.scatter(j, i, c='yellow', s=10)  # Yellow dot for each coordinate\n",
        "\n",
        "    if path:\n",
        "        path = np.array(path)\n",
        "        plt.plot(path[:, 1], path[:, 0], 'orange', linewidth=2)  # Path line in orange\n",
        "\n",
        "    plt.scatter(start[1], start[0], c='blue', marker='o', s=100, edgecolors='black')  # Start\n",
        "    plt.scatter(goal[1], goal[0], c='red', marker='o', s=100, edgecolors='black')  # Goal\n",
        "    plt.show()\n",
        "\n",
        "plot_grid(grid, path)\n",
        "\n",
        "# Check if path was found\n",
        "if not path:\n",
        "    print(\"No path found to the goal.\")\n",
        "else:\n",
        "    print(\"Path found:\", path)\n",
        "\n",
        "ani = animation.FuncAnimation(fig, update_plot, frames=len(steps), interval=500, repeat=False)\n",
        "\n",
        "# Save the animation to a file to ensure it renders\n",
        "ani.save('pathfinding_animation_bfs.mp4', writer='ffmpeg')\n",
        "\n",
        "# Display the animation\n",
        "plt.show()  \n"
      ]
    },
    {
      "cell_type": "markdown",
      "metadata": {
        "id": "NegzSpOQF8zZ"
      },
      "source": [
        "Why Djikstra and BFS have different path because for the djikstra itself have cost 1 and -1, and for BFS avoid the cost but have direction (N, NE, E, SE, S, SW, W, NW)"
      ]
    }
  ],
  "metadata": {
    "accelerator": "GPU",
    "colab": {
      "gpuType": "T4",
      "provenance": []
    },
    "kernelspec": {
      "display_name": "Python 3",
      "name": "python3"
    },
    "language_info": {
      "name": "python"
    }
  },
  "nbformat": 4,
  "nbformat_minor": 0
}
